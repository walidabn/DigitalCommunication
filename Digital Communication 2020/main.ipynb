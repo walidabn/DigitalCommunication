{
 "cells": [
  {
   "cell_type": "markdown",
   "metadata": {},
   "source": [
    "# Principles of Digital Communication"
   ]
  },
  {
   "cell_type": "markdown",
   "metadata": {},
   "source": [
    "## To do : \n",
    "- Avec le simple repetition code (pas de parity check), avec un message de 10 charactères, déterminer le nombre de répétitions à partir duquel sur 100 runs, aucune erreur n'est obtenue. Super important : c'est la baseline qu'on va utiliser comme nombre pour parity_incrust sur le second point.\n",
    "- Avec le code hybride : jouer avec les paramètres k, block_length, parity_incrust, batch_size ( avec batch_size == block_length), pour déterminer les paramètres optimaux pour que sur 100 runs, il n'y ait pas d'erreurs. Je doute que ce nombre vaille 0, mais bon, c'est de l'optimisation, c'est vous les data scientists :) . \n",
    "- En réalité, le code \"hybride\" est une variante du LDPC (une méthode d'encodage qui est utilisée dans le standard de la 5G) que j'ai essayé d'implémenter, mais qui n'est pas optimale. Pour faire simple, mon code hybride utilise 1 parity bit par set disjoint de 8 bits d'information, l'optimisation du LDPC consiste à rajouter des bits de protection sur des set non-disjoints. Par exemple : imaginez que vous avez 24 bits d'information à protéger, le code hybride va avoir un bit de parity après le 8ème bit, un bit de parity après le 16ème bit, et un bit de parity après le 24ème bit. Le LDPC va rajouter un bit de parity qui couvre les bits 1 à 8, puis un bit de parity qui couvre les bits 7 à 14, puis un bit de parity qui couvre les bits 12 à 19, puis un bit de parity qui couvre les bits 17 à 24. En gros, les bits de parity couvrent des \"overlapping sets\", mais faut en rajouter. Je soupçonne que si c'est bien implémenté, on peut atteindre un rate beaucoup plus bas, en ayant besoin de moins de répétitions, faut l'implémenter.\n",
    "- Explorer ce qu'il est possible de faire avec d'autres types de codes : si vous pouvez explorer les \"Tornado Codes\" (qui sont , \"Reed-Solomon codes\", \"Turbo Codes\" et \"Reed-Muller Codes\", ce serait top! En fait, il faut savoir que le code sur lequel on a travaillé dans le homework 2 (le Hadamard Code), est en fait un cas particulier d'un Reed-Muller code. Vous pouvez partir de là."
   ]
  },
  {
   "cell_type": "markdown",
   "metadata": {},
   "source": [
    "### Imports"
   ]
  },
  {
   "cell_type": "code",
   "execution_count": 175,
   "metadata": {},
   "outputs": [],
   "source": [
    "import helpers\n",
    "import numpy as np\n",
    "\n"
   ]
  },
  {
   "cell_type": "markdown",
   "metadata": {},
   "source": [
    "### Encoding "
   ]
  },
  {
   "cell_type": "code",
   "execution_count": 176,
   "metadata": {},
   "outputs": [],
   "source": [
    "input = \"test.txt\"\n",
    "output = \"output.txt\"\n"
   ]
  },
  {
   "cell_type": "code",
   "execution_count": 177,
   "metadata": {},
   "outputs": [],
   "source": [
    "#returns a list of characters from a given textfile\n",
    "text = helpers.read_text_file(input)"
   ]
  },
  {
   "cell_type": "markdown",
   "metadata": {},
   "source": [
    "## Hybrid Encoding"
   ]
  },
  {
   "cell_type": "code",
   "execution_count": 178,
   "metadata": {},
   "outputs": [],
   "source": [
    "#NE PAS TOUCHER, WALID BOSSE ACTUELLEMENT SUR CA\n",
    "#Ce bloc là fonctionne bien, il incruste bien les parity bits pour un block de taille block_length\n",
    "\n",
    "\n",
    "text_modified_binary_original = helpers.chars_to_bits_partial(text)\n",
    "text_for_compare = helpers.from_zero_to_neg(text_modified_binary_original)\n",
    "block_length = 8   \n",
    "temp = []\n",
    "def parity_incrust(l):\n",
    "    res = []\n",
    "    n = len(l)\n",
    "    for i in range(int(n/block_length)):\n",
    "        acc_1 = 0\n",
    "        acc_3 = 0\n",
    "        \n",
    "        for j in range(block_length):\n",
    "            # First parity bit\n",
    "                \n",
    "            if(j==4 or j==0 or j==2  or j==5 or j == 6 or j == 7 ):\n",
    "                acc_1 += l[i*block_length+j]\n",
    "\n",
    "                \n",
    "            if(j==0 or j==1 or j==3  or j==5 or j == 6 or j == 7 ):\n",
    "                acc_3 += l[i*block_length+j]\n",
    "            \n",
    "            \n",
    "        acc_1 = acc_1%2\n",
    "        acc_3 = acc_3%2\n",
    "        \n",
    "        res.extend(l[i*block_length:(i+1)*block_length])\n",
    "        res.append(acc_1)\n",
    "        temp.append(acc_1)\n",
    "        res.append(acc_3)\n",
    "        temp.append(acc_3)\n",
    "    #print(parity_bits_for_print)\n",
    "    return res\n",
    "\n",
    "            \n",
    "text_modified_binary = parity_incrust(text_modified_binary_original)\n",
    "text_modified_binary = list(map(int, text_modified_binary))\n",
    "\n"
   ]
  },
  {
   "cell_type": "code",
   "execution_count": 179,
   "metadata": {},
   "outputs": [
    {
     "data": {
      "text/plain": [
       "640"
      ]
     },
     "execution_count": 179,
     "metadata": {},
     "output_type": "execute_result"
    }
   ],
   "source": [
    "len(text_modified_binary_original)"
   ]
  },
  {
   "cell_type": "markdown",
   "metadata": {},
   "source": [
    "# Hybrid Repetition"
   ]
  },
  {
   "cell_type": "code",
   "execution_count": 180,
   "metadata": {},
   "outputs": [],
   "source": [
    "#faut jouer avec k et parity_redundancy pour trouver un bon équilibre\n",
    "\n",
    "k = 52\n",
    "batch_size = 8\n",
    "parity_redundancy = 111"
   ]
  },
  {
   "cell_type": "code",
   "execution_count": 181,
   "metadata": {},
   "outputs": [
    {
     "name": "stdout",
     "output_type": "stream",
     "text": [
      "51040.0\n"
     ]
    }
   ],
   "source": [
    "print(k*640 + ((2*640)/batch_size)*parity_redundancy)\n",
    "assert(k*640 + ((2*640)/batch_size)*parity_redundancy < 51200)\n"
   ]
  },
  {
   "cell_type": "code",
   "execution_count": 182,
   "metadata": {},
   "outputs": [],
   "source": [
    "text_repeated = helpers.repetition_hybrid(text_modified_binary,k,batch_size,parity_redundancy)\n",
    "text_repeated = helpers.from_zero_to_neg(text_repeated)\n"
   ]
  },
  {
   "cell_type": "code",
   "execution_count": 183,
   "metadata": {},
   "outputs": [
    {
     "data": {
      "text/plain": [
       "51040"
      ]
     },
     "execution_count": 183,
     "metadata": {},
     "output_type": "execute_result"
    }
   ],
   "source": [
    "len(text_repeated)"
   ]
  },
  {
   "cell_type": "code",
   "execution_count": 184,
   "metadata": {},
   "outputs": [],
   "source": [
    "np.savetxt(\"input.txt\",text_repeated,fmt='%i')"
   ]
  },
  {
   "cell_type": "markdown",
   "metadata": {},
   "source": [
    "### Sending to server"
   ]
  },
  {
   "cell_type": "code",
   "execution_count": 186,
   "metadata": {},
   "outputs": [],
   "source": [
    "%run client.py --input_file=\"input.txt\" --output_file=\"output.txt\" --srv_hostname=iscsrv72.epfl.ch --srv_port=80"
   ]
  },
  {
   "cell_type": "markdown",
   "metadata": {},
   "source": [
    "# Decoding"
   ]
  },
  {
   "cell_type": "code",
   "execution_count": 187,
   "metadata": {},
   "outputs": [],
   "source": [
    "output = open('output.txt', 'r').read().splitlines()"
   ]
  },
  {
   "cell_type": "code",
   "execution_count": 188,
   "metadata": {},
   "outputs": [],
   "source": [
    "# convert output from char to float \n",
    "output = [float(i) for i in output]"
   ]
  },
  {
   "cell_type": "code",
   "execution_count": 189,
   "metadata": {},
   "outputs": [
    {
     "name": "stdout",
     "output_type": "stream",
     "text": [
      "51040\n"
     ]
    }
   ],
   "source": [
    "print(len(output))"
   ]
  },
  {
   "cell_type": "markdown",
   "metadata": {},
   "source": [
    "## Hybrid decoding"
   ]
  },
  {
   "cell_type": "code",
   "execution_count": 190,
   "metadata": {},
   "outputs": [],
   "source": [
    "#NE PAS TOUCHER CETTE SECTION, WALID BOSSE ACTUELLEMENT SUR CA\n",
    "\n",
    "\n",
    "#Works on the reconstruction and helper_reconstruct part\n",
    "#Cette méthode prend le fichier reçu et renvoie 3 listes : \n",
    "# reconstruction : Les bits du message reconstruits en moyennant leur répétitions clippés à -1;+1\n",
    "# helper_reconstruct : les \"moyennes\" des répétitions des bits bruités\n",
    "# parity_list : la même chose que répétition, mais pour les bits de parité\n",
    "\n",
    "\n",
    "def hybrid_decode_builder(encoded):\n",
    "    reconstruction = []\n",
    "    helper_reconstruct=[]\n",
    "    parity_list = []\n",
    "    full_length = len(encoded)\n",
    "    full_batch_size = k * batch_size + 2*parity_redundancy\n",
    "    num_batches = int(full_length/full_batch_size)\n",
    "    #assert(num_batches==80)\n",
    "    #assert(full_batch_size==570)\n",
    "    # NUM BATCHES 80\n",
    "    for batch in range(num_batches):\n",
    "        # BATCH SIZE 8\n",
    "        for i in range(batch_size):\n",
    "            acc = 0\n",
    "            for j in range(k):\n",
    "                index = batch * full_batch_size + i*k + j\n",
    "                acc += encoded[index]\n",
    "                #print( \"acc : \", acc, \" , j = \", j, \" i = \", i)\n",
    "            helper_reconstruct.append(acc)\n",
    "            if acc > 0 : \n",
    "                reconstruction.append(1)\n",
    "            else : \n",
    "                reconstruction.append(-1)\n",
    "            acc = 0\n",
    "            \n",
    "\n",
    "        acc_3 = 0\n",
    "        for j in range(parity_redundancy):\n",
    "            index = batch * full_batch_size + batch_size*k+ j\n",
    "            index_3 = index + parity_redundancy\n",
    "            acc += encoded[index]\n",
    "            acc_3 += encoded[index_3]\n",
    "            \n",
    "            \n",
    "        if acc > 0 : \n",
    "            parity_list.append(1)\n",
    "        else : \n",
    "            parity_list.append(-1)\n",
    "        if acc_3 > 0 : \n",
    "            parity_list.append(1)\n",
    "        else : \n",
    "            parity_list.append(-1)\n",
    "            \n",
    "        \n",
    "    return reconstruction,helper_reconstruct,parity_list\n",
    "\n",
    "\n",
    "\n",
    "    "
   ]
  },
  {
   "cell_type": "code",
   "execution_count": 191,
   "metadata": {},
   "outputs": [],
   "source": [
    "def parity_checking(rec,helper,parity_l):\n",
    "    counter = 0\n",
    "    n = len(parity_l)\n",
    "    bs = int(len(rec)/n)*2\n",
    "    assert(bs==batch_size)\n",
    "    result = []\n",
    "    result.extend(rec)\n",
    "    bs = batch_size\n",
    "    for i in range(0,n,2):\n",
    "        parity_bit_noisy = parity_l[i]\n",
    "\n",
    "        parity_bit_noisy_3 = parity_l[i+1]\n",
    "        \n",
    "        half_i = int(i/2)\n",
    "        \n",
    "        parity_bit_computed_3 = helpers.parity_find_3(result[half_i*bs:(half_i+1)*bs])       \n",
    " \n",
    "        if parity_bit_noisy_3!=parity_bit_computed_3 :\n",
    "            counter += 1 \n",
    "            print('corrected_one')\n",
    "            \n",
    "            j = helpers.find_absolute_min_index(helper[half_i*bs:(half_i+1)*bs])\n",
    "            print('error at index ', j+half_i*bs ,'--  change ' , result[j+half_i*bs] , ' to ' , -result[j+half_i*bs] ) \n",
    "            result[j+half_i*bs] = -result[j+half_i*bs]\n",
    "        \n",
    "            parity_bit_computed = helpers.parity_find(result[half_i*bs:(half_i+1)*bs])\n",
    "            if parity_bit_noisy!=parity_bit_computed :\n",
    "                counter +=1\n",
    "                print('corrected_two')\n",
    "                j = helpers.find_absolute_min_index_2(helper[half_i*bs:(half_i+1)*bs])\n",
    "                print('error at index ', j+half_i*bs ,'--  change ' , result[j+half_i*bs] , ' to ' , -result[j+half_i*bs] ) \n",
    "\n",
    "                result[j+half_i*bs] = -result[j+half_i*bs]\n",
    "                continue\n",
    "                \n",
    "                    \n",
    "\n",
    "                                \n",
    "                \n",
    "            \n",
    "        \n",
    "        parity_bit_computed = helpers.parity_find(result[half_i*bs:(half_i+1)*bs])\n",
    "        if parity_bit_noisy!=parity_bit_computed :\n",
    "            counter +=1\n",
    "            print('corrected_two')\n",
    "            j = helpers.find_absolute_min_index(helper[half_i*bs:(half_i+1)*bs])\n",
    "            print('error at index ', j+half_i*bs ,'--  change ' , result[j+half_i*bs] , ' to ' , -result[j+half_i*bs] ) \n",
    "\n",
    "            result[j+half_i*bs] = -result[j+half_i*bs]\n",
    "            \n",
    "\n",
    "                \n",
    "                \n",
    "                \n",
    "    print(\"number of errors detected : \",counter)\n",
    "            \n",
    "        \n",
    "        \n",
    "            \n",
    "    return result\n",
    "\n"
   ]
  },
  {
   "cell_type": "code",
   "execution_count": 192,
   "metadata": {},
   "outputs": [],
   "source": [
    "# parse input \n",
    "reconstruction,helper_reconstruct,parity_list = hybrid_decode_builder(output)\n"
   ]
  },
  {
   "cell_type": "code",
   "execution_count": 193,
   "metadata": {},
   "outputs": [
    {
     "data": {
      "text/plain": [
       "160"
      ]
     },
     "execution_count": 193,
     "metadata": {},
     "output_type": "execute_result"
    }
   ],
   "source": [
    "len(parity_list)"
   ]
  },
  {
   "cell_type": "code",
   "execution_count": 194,
   "metadata": {},
   "outputs": [
    {
     "data": {
      "text/plain": [
       "[-1, 1, 1, 1, -1, -1, 1, 1]"
      ]
     },
     "execution_count": 194,
     "metadata": {},
     "output_type": "execute_result"
    }
   ],
   "source": [
    "text_for_compare[136:144]"
   ]
  },
  {
   "cell_type": "code",
   "execution_count": 195,
   "metadata": {},
   "outputs": [
    {
     "data": {
      "text/plain": [
       "[-1, 1, 1, 1, -1, -1, 1, 1]"
      ]
     },
     "execution_count": 195,
     "metadata": {},
     "output_type": "execute_result"
    }
   ],
   "source": [
    "reconstruction[136:144]"
   ]
  },
  {
   "cell_type": "code",
   "execution_count": 196,
   "metadata": {},
   "outputs": [
    {
     "data": {
      "text/plain": [
       "[-107.05309945420898,\n",
       " 79.67336657957699,\n",
       " 71.55835491896538,\n",
       " 67.8897774583431,\n",
       " -31.716977818763812,\n",
       " -57.241384926757895,\n",
       " 61.408376928850956,\n",
       " 38.658200014169445]"
      ]
     },
     "execution_count": 196,
     "metadata": {},
     "output_type": "execute_result"
    }
   ],
   "source": [
    "helper_reconstruct[136:144]"
   ]
  },
  {
   "cell_type": "code",
   "execution_count": 197,
   "metadata": {},
   "outputs": [
    {
     "name": "stdout",
     "output_type": "stream",
     "text": [
      "corrected_one\n",
      "error at index  63 --  change  1  to  -1\n",
      "corrected_one\n",
      "error at index  77 --  change  1  to  -1\n",
      "corrected_one\n",
      "error at index  112 --  change  1  to  -1\n",
      "corrected_one\n",
      "error at index  128 --  change  1  to  -1\n",
      "corrected_two\n",
      "error at index  314 --  change  -1  to  1\n",
      "corrected_one\n",
      "error at index  413 --  change  -1  to  1\n",
      "corrected_one\n",
      "error at index  536 --  change  1  to  -1\n",
      "corrected_one\n",
      "error at index  568 --  change  1  to  -1\n",
      "corrected_two\n",
      "error at index  583 --  change  -1  to  1\n",
      "corrected_one\n",
      "error at index  584 --  change  -1  to  1\n",
      "number of errors detected :  10\n"
     ]
    }
   ],
   "source": [
    "# correct \n",
    "reconstruction = parity_checking(reconstruction,helper_reconstruct,parity_list)\n"
   ]
  },
  {
   "cell_type": "code",
   "execution_count": 198,
   "metadata": {},
   "outputs": [
    {
     "data": {
      "text/plain": [
       "[-1, -1]"
      ]
     },
     "execution_count": 198,
     "metadata": {},
     "output_type": "execute_result"
    }
   ],
   "source": [
    "reconstruction[246:248]"
   ]
  },
  {
   "cell_type": "code",
   "execution_count": 199,
   "metadata": {},
   "outputs": [
    {
     "data": {
      "text/plain": [
       "160"
      ]
     },
     "execution_count": 199,
     "metadata": {},
     "output_type": "execute_result"
    }
   ],
   "source": [
    "len(parity_list)"
   ]
  },
  {
   "cell_type": "markdown",
   "metadata": {},
   "source": [
    "## Make sure our parity bits contain no errors"
   ]
  },
  {
   "cell_type": "code",
   "execution_count": 200,
   "metadata": {},
   "outputs": [
    {
     "data": {
      "text/plain": [
       "(0, [])"
      ]
     },
     "execution_count": 200,
     "metadata": {},
     "output_type": "execute_result"
    }
   ],
   "source": [
    "helpers.compute_Hamming(helpers.from_zero_to_neg(temp),parity_list)"
   ]
  },
  {
   "cell_type": "markdown",
   "metadata": {},
   "source": [
    "### Hybrid Error Evaluation"
   ]
  },
  {
   "cell_type": "code",
   "execution_count": 201,
   "metadata": {},
   "outputs": [
    {
     "name": "stdout",
     "output_type": "stream",
     "text": [
      "4\n",
      "[(578, 1), (583, -1), (584, -1), (589, -1)]\n"
     ]
    }
   ],
   "source": [
    "v1,v2 = helpers.compute_Hamming(text_for_compare,reconstruction)\n",
    "print(v1)\n",
    "print(v2)\n"
   ]
  },
  {
   "cell_type": "code",
   "execution_count": 171,
   "metadata": {},
   "outputs": [
    {
     "data": {
      "text/plain": [
       "[-50.90485622154812,\n",
       " 84.9174302554785,\n",
       " 31.5528572663738,\n",
       " -71.54468483138272,\n",
       " 15.075118796483059,\n",
       " -13.240698012468783,\n",
       " -45.95050990905744,\n",
       " 53.8034941768679]"
      ]
     },
     "execution_count": 171,
     "metadata": {},
     "output_type": "execute_result"
    }
   ],
   "source": [
    "helper_reconstruct[72:80]"
   ]
  },
  {
   "cell_type": "code",
   "execution_count": 172,
   "metadata": {},
   "outputs": [
    {
     "data": {
      "text/plain": [
       "-1"
      ]
     },
     "execution_count": 172,
     "metadata": {},
     "output_type": "execute_result"
    }
   ],
   "source": [
    "text_for_compare[30]"
   ]
  },
  {
   "cell_type": "code",
   "execution_count": 173,
   "metadata": {},
   "outputs": [
    {
     "data": {
      "text/plain": [
       "-1"
      ]
     },
     "execution_count": 173,
     "metadata": {},
     "output_type": "execute_result"
    }
   ],
   "source": [
    "reconstruction[30]"
   ]
  },
  {
   "cell_type": "code",
   "execution_count": 174,
   "metadata": {},
   "outputs": [
    {
     "name": "stdout",
     "output_type": "stream",
     "text": [
      "ayaài w wmlid amls poõr la vie ayadi r walid amis pour la vie aqadi w walid123 \n",
      "\n"
     ]
    }
   ],
   "source": [
    "r = helpers.bits_to_chars(reconstruction)\n",
    "r2 = helpers.from_bits_to_chars(r)\n",
    "print(str(r2))"
   ]
  },
  {
   "cell_type": "markdown",
   "metadata": {},
   "source": [
    "### Classic Error Evaluation"
   ]
  },
  {
   "cell_type": "code",
   "execution_count": 101,
   "metadata": {},
   "outputs": [],
   "source": [
    "#v1 = helpers.compute_Hamming(text_modified_binary,reconstruction)\n",
    "#v3 = helpers.compute_Hamming(text_modified_binary,reconstruction3)\n",
    "#print(v1)\n",
    "#print(v3)\n",
    "#text_modified_binary==reconstruction"
   ]
  },
  {
   "cell_type": "markdown",
   "metadata": {},
   "source": [
    "## Write on file the received value"
   ]
  },
  {
   "cell_type": "code",
   "execution_count": 102,
   "metadata": {},
   "outputs": [
    {
     "ename": "NameError",
     "evalue": "name 'write_chars_on_file' is not defined",
     "output_type": "error",
     "traceback": [
      "\u001b[1;31m---------------------------------------------------------------------------\u001b[0m",
      "\u001b[1;31mNameError\u001b[0m                                 Traceback (most recent call last)",
      "\u001b[1;32m<ipython-input-102-44e7c71a3381>\u001b[0m in \u001b[0;36m<module>\u001b[1;34m\u001b[0m\n\u001b[1;32m----> 1\u001b[1;33m \u001b[0mwrite_chars_on_file\u001b[0m\u001b[1;33m(\u001b[0m\u001b[0mres2\u001b[0m\u001b[1;33m)\u001b[0m\u001b[1;33m\u001b[0m\u001b[1;33m\u001b[0m\u001b[0m\n\u001b[0m",
      "\u001b[1;31mNameError\u001b[0m: name 'write_chars_on_file' is not defined"
     ]
    }
   ],
   "source": [
    "write_chars_on_file(res2)"
   ]
  },
  {
   "cell_type": "markdown",
   "metadata": {},
   "source": [
    "# Calculating noise statistics"
   ]
  },
  {
   "cell_type": "markdown",
   "metadata": {},
   "source": [
    "partir d'une liste -1, 1.\n",
    "1- calculer le mean de ma liste de départ \n",
    "2- "
   ]
  },
  {
   "cell_type": "code",
   "execution_count": 91,
   "metadata": {},
   "outputs": [],
   "source": [
    "k = 50000"
   ]
  },
  {
   "cell_type": "code",
   "execution_count": 92,
   "metadata": {},
   "outputs": [],
   "source": [
    "input_list = helpers.generate_random_list(-1, k)"
   ]
  },
  {
   "cell_type": "code",
   "execution_count": null,
   "metadata": {},
   "outputs": [],
   "source": [
    "mean_transmitted = np.mean(input_list)\n",
    "std_transmitted = np.std(input_list)\n",
    "print(mean_transmitted)\n",
    "print(std_transmitted)"
   ]
  },
  {
   "cell_type": "markdown",
   "metadata": {},
   "source": [
    "### Sending to server"
   ]
  },
  {
   "cell_type": "code",
   "execution_count": null,
   "metadata": {},
   "outputs": [],
   "source": [
    "np.savetxt(\"input.txt\",input_list,fmt='%i')"
   ]
  },
  {
   "cell_type": "code",
   "execution_count": null,
   "metadata": {},
   "outputs": [],
   "source": [
    "%run client.py --input_file=\"input.txt\" --output_file=\"output25.txt\" --srv_hostname=iscsrv72.epfl.ch --srv_port=80"
   ]
  },
  {
   "cell_type": "markdown",
   "metadata": {},
   "source": [
    "### Decoding"
   ]
  },
  {
   "cell_type": "code",
   "execution_count": null,
   "metadata": {},
   "outputs": [],
   "source": [
    "# convert output from char to float \n",
    "output1 = open('output.txt', 'r').read().splitlines()\n",
    "output1 = [float(i) for i in output]"
   ]
  },
  {
   "cell_type": "code",
   "execution_count": null,
   "metadata": {},
   "outputs": [],
   "source": [
    "output2 = open('output2.txt', 'r').read().splitlines()\n",
    "output2 = [float(i) for i in output2]"
   ]
  },
  {
   "cell_type": "code",
   "execution_count": null,
   "metadata": {},
   "outputs": [],
   "source": [
    "output3 = open('output3.txt', 'r').read().splitlines()\n",
    "output3 = [float(i) for i in output3]"
   ]
  },
  {
   "cell_type": "code",
   "execution_count": null,
   "metadata": {},
   "outputs": [],
   "source": [
    "output4 = open('output4.txt', 'r').read().splitlines()\n",
    "output4 = [float(i) for i in output4]"
   ]
  },
  {
   "cell_type": "code",
   "execution_count": null,
   "metadata": {},
   "outputs": [],
   "source": [
    "output5 = open('output5.txt', 'r').read().splitlines()\n",
    "output5 = [float(i) for i in output5]"
   ]
  },
  {
   "cell_type": "code",
   "execution_count": null,
   "metadata": {},
   "outputs": [],
   "source": [
    "output6 = open('output6.txt', 'r').read().splitlines()\n",
    "output6 = [float(i) for i in output6]"
   ]
  },
  {
   "cell_type": "code",
   "execution_count": null,
   "metadata": {},
   "outputs": [],
   "source": [
    "output7 = open('output7.txt', 'r').read().splitlines()\n",
    "output7 = [float(i) for i in output7]\n"
   ]
  },
  {
   "cell_type": "code",
   "execution_count": null,
   "metadata": {},
   "outputs": [],
   "source": [
    "output8 = open('output8.txt', 'r').read().splitlines()\n",
    "output8 = [float(i) for i in output8]\n"
   ]
  },
  {
   "cell_type": "code",
   "execution_count": null,
   "metadata": {},
   "outputs": [],
   "source": [
    "output9 = open('output9.txt', 'r').read().splitlines()\n",
    "output9 = [float(i) for i in output9]\n"
   ]
  },
  {
   "cell_type": "code",
   "execution_count": null,
   "metadata": {},
   "outputs": [],
   "source": [
    "output10 = open('output10.txt', 'r').read().splitlines()\n",
    "output10 = [float(i) for i in output10]\n"
   ]
  },
  {
   "cell_type": "code",
   "execution_count": null,
   "metadata": {},
   "outputs": [],
   "source": [
    "output11 = open('output11.txt', 'r').read().splitlines()\n",
    "output11 = [float(i) for i in output11]\n"
   ]
  },
  {
   "cell_type": "code",
   "execution_count": null,
   "metadata": {},
   "outputs": [],
   "source": [
    "output12 = open('output12.txt', 'r').read().splitlines()\n",
    "output12 = [float(i) for i in output12]\n"
   ]
  },
  {
   "cell_type": "code",
   "execution_count": null,
   "metadata": {},
   "outputs": [],
   "source": [
    "output13 = open('output13.txt', 'r').read().splitlines()\n",
    "output13 = [float(i) for i in output13]\n"
   ]
  },
  {
   "cell_type": "code",
   "execution_count": null,
   "metadata": {},
   "outputs": [],
   "source": [
    "output14 = open('output14.txt', 'r').read().splitlines()\n",
    "output14 = [float(i) for i in output14]\n"
   ]
  },
  {
   "cell_type": "code",
   "execution_count": null,
   "metadata": {},
   "outputs": [],
   "source": [
    "output15 = open('output15.txt', 'r').read().splitlines()\n",
    "output15 = [float(i) for i in output15]\n"
   ]
  },
  {
   "cell_type": "code",
   "execution_count": null,
   "metadata": {},
   "outputs": [],
   "source": [
    "output16 = open('output16.txt', 'r').read().splitlines()\n",
    "output16 = [float(i) for i in output16]\n"
   ]
  },
  {
   "cell_type": "code",
   "execution_count": null,
   "metadata": {},
   "outputs": [],
   "source": [
    "output17 = open('output17.txt', 'r').read().splitlines()\n",
    "output17 = [float(i) for i in output17]\n"
   ]
  },
  {
   "cell_type": "code",
   "execution_count": null,
   "metadata": {},
   "outputs": [],
   "source": [
    "output18 = open('output18.txt', 'r').read().splitlines()\n",
    "output18 = [float(i) for i in output18]\n"
   ]
  },
  {
   "cell_type": "code",
   "execution_count": null,
   "metadata": {},
   "outputs": [],
   "source": [
    "output19 = open('output19.txt', 'r').read().splitlines()\n",
    "output19 = [float(i) for i in output19]\n"
   ]
  },
  {
   "cell_type": "code",
   "execution_count": null,
   "metadata": {},
   "outputs": [],
   "source": [
    "output20 = open('output20.txt', 'r').read().splitlines()\n",
    "output20 = [float(i) for i in output20]\n"
   ]
  },
  {
   "cell_type": "code",
   "execution_count": null,
   "metadata": {},
   "outputs": [],
   "source": [
    "output21 = open('output21.txt', 'r').read().splitlines()\n",
    "output21 = [float(i) for i in output21]"
   ]
  },
  {
   "cell_type": "code",
   "execution_count": null,
   "metadata": {},
   "outputs": [],
   "source": [
    "output22 = open('output22.txt', 'r').read().splitlines()\n",
    "output22 = [float(i) for i in output22]"
   ]
  },
  {
   "cell_type": "code",
   "execution_count": null,
   "metadata": {},
   "outputs": [],
   "source": [
    "output23 = open('output23.txt', 'r').read().splitlines()\n",
    "output23 = [float(i) for i in output23]"
   ]
  },
  {
   "cell_type": "code",
   "execution_count": null,
   "metadata": {},
   "outputs": [],
   "source": [
    "output24 = open('output24.txt', 'r').read().splitlines()\n",
    "output24 = [float(i) for i in output24]"
   ]
  },
  {
   "cell_type": "code",
   "execution_count": null,
   "metadata": {},
   "outputs": [],
   "source": [
    "output25 = open('output25.txt', 'r').read().splitlines()\n",
    "output25 = [float(i) for i in output25]"
   ]
  },
  {
   "cell_type": "code",
   "execution_count": null,
   "metadata": {},
   "outputs": [],
   "source": [
    "big_output = output1#+output2+output3+output4+output5+output6+output7+output8+output9+output10+output11+output12+output13+output14+output15+output16+output17+output18+output19+output20+output21+output22+output23+output24+output25\n"
   ]
  },
  {
   "cell_type": "code",
   "execution_count": null,
   "metadata": {},
   "outputs": [],
   "source": [
    "mean_received = np.mean(big_output)\n",
    "std_received = np.std(big_output)\n",
    "print(mean_received)\n",
    "print(std_received)\n",
    "print(std_received**2)\n",
    "\n",
    "shift = 1 + mean_received\n",
    "print(shift)"
   ]
  },
  {
   "cell_type": "code",
   "execution_count": null,
   "metadata": {},
   "outputs": [],
   "source": [
    "channel_capacity1 = np.log2(1+ (1/(std_received**2)))/2\n",
    "print(channel_capacity1)\n",
    "channel_capacity2 = np.log2(1+ np.sqrt(2/(np.pi * np.e)))\n",
    "print(channel_capacity2)\n",
    "\n",
    "minimum_n = 640/channel_capacity1\n",
    "\n"
   ]
  },
  {
   "cell_type": "markdown",
   "metadata": {},
   "source": [
    "The best possible reliable code must send at least about 11000 bits."
   ]
  },
  {
   "cell_type": "code",
   "execution_count": null,
   "metadata": {},
   "outputs": [],
   "source": [
    "mean_received = np.mean(output)\n",
    "std_received = np.std(output)\n",
    "print(mean_received)\n",
    "print(std_received)"
   ]
  },
  {
   "cell_type": "code",
   "execution_count": null,
   "metadata": {},
   "outputs": [],
   "source": [
    "noise_mean = mean_received - mean_transmitted\n",
    "noise_std = std_received - std_transmitted\n",
    "print('noise_mean: ', noise_mean)\n",
    "print('noise_std: ', noise_std)"
   ]
  },
  {
   "cell_type": "markdown",
   "metadata": {},
   "source": [
    "Pour -1 : mean = 0.991298758983935 , std = 3.552037915973558\n",
    "\n",
    "Pour 1 : mean = -0.9995436520014286 , std = 3.5203711872123264\n",
    "\n",
    "Pour 1, -1 : mean = 0.011907669713883446, std = 2.546875294224225"
   ]
  },
  {
   "cell_type": "markdown",
   "metadata": {},
   "source": [
    "# Param estimation"
   ]
  },
  {
   "cell_type": "code",
   "execution_count": 24,
   "metadata": {},
   "outputs": [
    {
     "name": "stdout",
     "output_type": "stream",
     "text": [
      "40\n",
      "[1, 1, 0, 1, 1, 0, 1, 1, 1, 1, 0, 1, 1, 1, 1, 0, 1, 1, 1, 1, 0, 1, 0, 0, 1, 0, 1, 0, 0, 1, 0, 0, 1, 0, 1, 0, 1, 1, 0, 1, 1, 1, 0, 0, 1, 1, 1, 1, 1, 1, 1, 0, 0, 1, 0, 0, 1, 1, 0, 1, 1, 1, 0, 1, 1, 1, 1, 1, 1, 0, 0, 0, 0, 1, 0, 0, 1, 0, 0, 0, 1, 1, 0, 0, 1, 0, 1, 1, 1, 0, 0, 1, 0, 1, 0, 0, 1, 1, 0, 0, 1, 1, 0, 1, 0, 1, 0, 0, 1, 0, 1, 1, 1, 1, 1, 1, 1, 1, 1, 1, 0, 1, 0, 0, 1, 1, 0, 1, 1, 0, 1, 1, 1, 1, 0, 1, 1, 1, 1, 0, 1, 1, 1, 1, 0, 1, 0, 0, 1, 0, 1, 0, 0, 1, 0, 0, 1, 0, 1, 0, 1, 1, 0, 1, 1, 1, 0, 0, 1, 1, 1, 1, 1, 1, 1, 0, 0, 1, 0, 0, 1, 1, 0, 1, 1, 1, 0, 1, 1, 1, 1, 1, 1, 0, 0, 0, 0, 1, 0, 0, 1, 0, 0, 0, 1, 1, 0, 0, 1, 0, 1, 1, 1, 0, 0, 1, 0, 1, 0, 0, 1, 1, 0, 0, 1, 1, 0, 1, 0, 1, 0, 0, 1, 0, 1, 1, 1, 1, 1, 1, 1, 1, 1, 1, 0, 1, 0, 0, 1, 1, 0, 1, 1, 0, 1, 1, 1, 1, 0, 1, 1, 1, 1, 0, 1, 1, 1, 1, 0, 1, 0, 0, 1, 0, 1, 0, 0, 1, 0, 0, 1, 0, 1, 0, 1, 1, 0, 1, 1, 1, 0, 0, 1, 1, 1, 1, 1, 1, 1, 0, 0, 0, 0, 1, 0, 0, 0, 1, 0, 0, 0, 0, 0, 1, 0, 0, 0, 0, 1, 1]\n",
      "848 640\n"
     ]
    },
    {
     "ename": "AssertionError",
     "evalue": "",
     "output_type": "error",
     "traceback": [
      "\u001b[0;31m---------------------------------------------------------------------------\u001b[0m",
      "\u001b[0;31mAssertionError\u001b[0m                            Traceback (most recent call last)",
      "\u001b[0;32m<ipython-input-24-cde475b595d6>\u001b[0m in \u001b[0;36m<module>\u001b[0;34m\u001b[0m\n\u001b[1;32m     25\u001b[0m             \u001b[0mreconstruction\u001b[0m \u001b[0;34m=\u001b[0m \u001b[0mparity_checking\u001b[0m\u001b[0;34m(\u001b[0m\u001b[0mreconstruction\u001b[0m\u001b[0;34m,\u001b[0m\u001b[0mhelper_reconstruct\u001b[0m\u001b[0;34m,\u001b[0m\u001b[0mparity_list\u001b[0m\u001b[0;34m)\u001b[0m\u001b[0;34m\u001b[0m\u001b[0;34m\u001b[0m\u001b[0m\n\u001b[1;32m     26\u001b[0m             \u001b[0mprint\u001b[0m\u001b[0;34m(\u001b[0m\u001b[0mlen\u001b[0m\u001b[0;34m(\u001b[0m\u001b[0mreconstruction\u001b[0m\u001b[0;34m)\u001b[0m\u001b[0;34m,\u001b[0m\u001b[0mlen\u001b[0m\u001b[0;34m(\u001b[0m\u001b[0mtext_for_compare\u001b[0m\u001b[0;34m)\u001b[0m\u001b[0;34m)\u001b[0m\u001b[0;34m\u001b[0m\u001b[0;34m\u001b[0m\u001b[0m\n\u001b[0;32m---> 27\u001b[0;31m             \u001b[0mv1\u001b[0m\u001b[0;34m,\u001b[0m\u001b[0mv2\u001b[0m \u001b[0;34m=\u001b[0m \u001b[0mhelpers\u001b[0m\u001b[0;34m.\u001b[0m\u001b[0mcompute_Hamming\u001b[0m\u001b[0;34m(\u001b[0m\u001b[0mtext_for_compare\u001b[0m\u001b[0;34m,\u001b[0m\u001b[0mreconstruction\u001b[0m\u001b[0;34m)\u001b[0m\u001b[0;34m\u001b[0m\u001b[0;34m\u001b[0m\u001b[0m\n\u001b[0m\u001b[1;32m     28\u001b[0m             \u001b[0mdict\u001b[0m\u001b[0;34m[\u001b[0m\u001b[0;34m(\u001b[0m\u001b[0mk\u001b[0m\u001b[0;34m,\u001b[0m\u001b[0mbatch_size\u001b[0m\u001b[0;34m,\u001b[0m\u001b[0mparity_redundancy\u001b[0m\u001b[0;34m)\u001b[0m\u001b[0;34m]\u001b[0m\u001b[0;34m.\u001b[0m\u001b[0mappend\u001b[0m\u001b[0;34m(\u001b[0m\u001b[0mv1\u001b[0m\u001b[0;34m)\u001b[0m\u001b[0;34m\u001b[0m\u001b[0;34m\u001b[0m\u001b[0m\n\u001b[1;32m     29\u001b[0m     \u001b[0mprint\u001b[0m\u001b[0;34m(\u001b[0m\u001b[0mk\u001b[0m\u001b[0;34m)\u001b[0m\u001b[0;34m\u001b[0m\u001b[0;34m\u001b[0m\u001b[0m\n",
      "\u001b[0;32m~/Téléchargements/PDC/Projet/PrinciplesOfDigitalCommunications2020/helpers.py\u001b[0m in \u001b[0;36mcompute_Hamming\u001b[0;34m(l1, l2)\u001b[0m\n\u001b[1;32m    102\u001b[0m \u001b[0;31m#Compute the hamming distance between two lists of same size, and returns the errors and indices of errors\u001b[0m\u001b[0;34m\u001b[0m\u001b[0;34m\u001b[0m\u001b[0;34m\u001b[0m\u001b[0m\n\u001b[1;32m    103\u001b[0m \u001b[0;32mdef\u001b[0m \u001b[0mcompute_Hamming\u001b[0m\u001b[0;34m(\u001b[0m\u001b[0ml1\u001b[0m\u001b[0;34m,\u001b[0m\u001b[0ml2\u001b[0m\u001b[0;34m)\u001b[0m\u001b[0;34m:\u001b[0m\u001b[0;34m\u001b[0m\u001b[0;34m\u001b[0m\u001b[0m\n\u001b[0;32m--> 104\u001b[0;31m     \u001b[0;32massert\u001b[0m\u001b[0;34m(\u001b[0m\u001b[0mlen\u001b[0m\u001b[0;34m(\u001b[0m\u001b[0ml1\u001b[0m\u001b[0;34m)\u001b[0m\u001b[0;34m==\u001b[0m\u001b[0mlen\u001b[0m\u001b[0;34m(\u001b[0m\u001b[0ml2\u001b[0m\u001b[0;34m)\u001b[0m\u001b[0;34m)\u001b[0m\u001b[0;34m\u001b[0m\u001b[0;34m\u001b[0m\u001b[0m\n\u001b[0m\u001b[1;32m    105\u001b[0m     \u001b[0mcount\u001b[0m \u001b[0;34m=\u001b[0m \u001b[0;36m0\u001b[0m\u001b[0;34m\u001b[0m\u001b[0;34m\u001b[0m\u001b[0m\n\u001b[1;32m    106\u001b[0m     \u001b[0merrors\u001b[0m \u001b[0;34m=\u001b[0m \u001b[0;34m[\u001b[0m\u001b[0;34m]\u001b[0m\u001b[0;34m\u001b[0m\u001b[0;34m\u001b[0m\u001b[0m\n",
      "\u001b[0;31mAssertionError\u001b[0m: "
     ]
    }
   ],
   "source": [
    "import collections\n",
    "import time\n",
    "dict = collections.defaultdict(list)\n",
    "for k in range(40,80):\n",
    "    for parity_redundancy in range(100,200,10):\n",
    "        for i in range(10):\n",
    "            print(k)\n",
    "            text_modified_binary_original = helpers.chars_to_bits_partial(text)\n",
    "            text_for_compare = helpers.from_zero_to_neg(text_modified_binary_original)\n",
    "            text_modified_binary = parity_incrust(text_modified_binary_original)\n",
    "            text_modified_binary = list(map(int, text_modified_binary))\n",
    "\n",
    "            batch_size = 8\n",
    "            text_repeated = helpers.repetition_hybrid(text_modified_binary,k,batch_size,parity_redundancy)\n",
    "            text_repeated = helpers.from_zero_to_neg(text_repeated)\n",
    "            np.savetxt(\"input.txt\",text_repeated,fmt='%i')\n",
    "\n",
    "            time.sleep(30)\n",
    "            %run client.py --input_file=\"input.txt\" --output_file=\"output.txt\" --srv_hostname=iscsrv72.epfl.ch --srv_port=80\n",
    "\n",
    "            output = open('output.txt', 'r').read().splitlines()\n",
    "            # convert output from char to float \n",
    "            output = [float(i) for i in output]\n",
    "            reconstruction,helper_reconstruct,parity_list = hybrid_decode_builder(output)\n",
    "            reconstruction = parity_checking(reconstruction,helper_reconstruct,parity_list)\n",
    "            print(len(reconstruction),len(text_for_compare))\n",
    "            v1,v2 = helpers.compute_Hamming(text_for_compare,reconstruction)\n",
    "            dict[(k,batch_size,parity_redundancy)].append(v1)\n",
    "    print(k)\n",
    "\n",
    "dict_1 = {k: sum(v)/len(v) for k, v in dict.items()}\n",
    "f = open(\"dict.txt\",\"w\")\n",
    "f.write( str(dict) )\n",
    "f.close()\n",
    "f = open(\"dict_1.txt\",\"w\")\n",
    "f.write( str(dict_1) )\n",
    "f.close()"
   ]
  },
  {
   "cell_type": "code",
   "execution_count": null,
   "metadata": {},
   "outputs": [],
   "source": []
  }
 ],
 "metadata": {
  "kernelspec": {
   "display_name": "Python 3",
   "language": "python",
   "name": "python3"
  },
  "language_info": {
   "codemirror_mode": {
    "name": "ipython",
    "version": 3
   },
   "file_extension": ".py",
   "mimetype": "text/x-python",
   "name": "python",
   "nbconvert_exporter": "python",
   "pygments_lexer": "ipython3",
   "version": "3.7.3"
  }
 },
 "nbformat": 4,
 "nbformat_minor": 4
}
